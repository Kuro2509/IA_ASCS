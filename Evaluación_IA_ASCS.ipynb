{
  "nbformat": 4,
  "nbformat_minor": 0,
  "metadata": {
    "colab": {
      "provenance": [],
      "authorship_tag": "ABX9TyP23dEcl99AdbB/Pc2sOzbm",
      "include_colab_link": true
    },
    "kernelspec": {
      "name": "python3",
      "display_name": "Python 3"
    },
    "language_info": {
      "name": "python"
    }
  },
  "cells": [
    {
      "cell_type": "markdown",
      "metadata": {
        "id": "view-in-github",
        "colab_type": "text"
      },
      "source": [
        "<a href=\"https://colab.research.google.com/github/Kuro2509/IA_ASCS/blob/main/Evaluaci%C3%B3n_IA_ASCS.ipynb\" target=\"_parent\"><img src=\"https://colab.research.google.com/assets/colab-badge.svg\" alt=\"Open In Colab\"/></a>"
      ]
    },
    {
      "cell_type": "code",
      "execution_count": 6,
      "metadata": {
        "colab": {
          "base_uri": "https://localhost:8080/"
        },
        "id": "4QbYe4h2N6NQ",
        "outputId": "a7dfed02-783e-4586-e293-bd57f5daebfd"
      },
      "outputs": [
        {
          "name": "stdout",
          "output_type": "stream",
          "text": [
            "Introduce el valor de 0 o 1: 0\n",
            "Introduce el valor de 0 o 1: 0\n",
            "0 AND 0 = 0\n",
            "0 OR 0 = 0\n",
            "¿Quieres introducir nuevos valores? (s/n): s\n",
            "Introduce el valor de 0 o 1: 0\n",
            "Introduce el valor de 0 o 1: 1\n",
            "0 AND 1 = 0\n",
            "0 OR 1 = 1\n",
            "¿Quieres introducir nuevos valores? (s/n): s\n",
            "Introduce el valor de 0 o 1: 1\n",
            "Introduce el valor de 0 o 1: 0\n",
            "1 AND 0 = 0\n",
            "1 OR 0 = 1\n",
            "¿Quieres introducir nuevos valores? (s/n): s\n",
            "Introduce el valor de 0 o 1: 1\n",
            "Introduce el valor de 0 o 1: 1\n",
            "1 AND 1 = 1\n",
            "1 OR 1 = 1\n",
            "¿Quieres introducir nuevos valores? (s/n): n\n"
          ]
        }
      ],
      "source": [
        "def compAND(x1, x2):\n",
        "    w = [2, 2]\n",
        "    s = x1 * w[0] + x2 * w[1]\n",
        "    y = 1 if s >= 4 else 0\n",
        "    return y\n",
        "\n",
        "def compOR(x1, x2):\n",
        "    w = [2, 2]\n",
        "    s = x1 * w[0] + x2 * w[1]\n",
        "    y = 0 if s == 0 else 1\n",
        "    return y\n",
        "\n",
        "def main():\n",
        "    while True:\n",
        "\n",
        "        x1 = int(input(\"Introduce el valor de 0 o 1: \"))\n",
        "        x2 = int(input(\"Introduce el valor de 0 o 1: \"))\n",
        "\n",
        "        # verificar que los valores sean 0 o 1\n",
        "        if x1 not in [0, 1] or x2 not in [0, 1]:\n",
        "            print(\"Error: Solo se permiten valores 0 o 1.\")\n",
        "            continue\n",
        "\n",
        "        rAND = compAND(x1, x2)\n",
        "        rOR = compOR(x1, x2)\n",
        "\n",
        "\n",
        "        print(f\"{x1} AND {x2} = {rAND}\")\n",
        "        print(f\"{x1} OR {x2} = {rOR}\")\n",
        "\n",
        "        continuar = input(\"¿Quieres introducir nuevos valores? (s/n): \").lower()\n",
        "        if continuar != 's':\n",
        "            break\n",
        "\n",
        "\n",
        "if __name__ == \"__main__\":\n",
        "    main()\n"
      ]
    }
  ]
}