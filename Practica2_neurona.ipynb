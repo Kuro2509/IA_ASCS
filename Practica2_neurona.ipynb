{
  "cells": [
    {
      "cell_type": "markdown",
      "metadata": {
        "id": "view-in-github",
        "colab_type": "text"
      },
      "source": [
        "<a href=\"https://colab.research.google.com/github/Kuro2509/IA_ASCS/blob/main/Practica2_neurona.ipynb\" target=\"_parent\"><img src=\"https://colab.research.google.com/assets/colab-badge.svg\" alt=\"Open In Colab\"/></a>"
      ]
    },
    {
      "cell_type": "markdown",
      "metadata": {
        "id": "VaIXAFK6mntF"
      },
      "source": [
        "# Neurona aprendizaje compuerta AND\n",
        "\n",
        "\n",
        "\n",
        "--\n",
        "\n",
        "00 -> 0\n",
        "\n",
        "01 -> 0\n",
        "\n",
        "10 -> 0\n",
        "\n",
        "11 -> 1\n"
      ]
    },
    {
      "cell_type": "code",
      "execution_count": 22,
      "metadata": {
        "colab": {
          "base_uri": "https://localhost:8080/"
        },
        "id": "W3bCs6aqneYC",
        "outputId": "6abca2ab-eecb-480b-ffa4-ddff045cf912"
      },
      "outputs": [
        {
          "output_type": "stream",
          "name": "stdout",
          "text": [
            "4\n",
            "1 AND 1 = 1\n"
          ]
        }
      ],
      "source": [
        "x= [1,1]\n",
        "w= [2,2]\n",
        "s= 0\n",
        "y= 0\n",
        "for i in range(0,2):\n",
        "  s=s+x[i]*w[i]\n",
        "print(s)\n",
        "\n",
        "y=1 if s>=4 else 0\n",
        "print(x[0], 'AND', x[1],'=',y)"
      ]
    },
    {
      "cell_type": "markdown",
      "metadata": {
        "id": "SIdlcacHqyPu"
      },
      "source": [
        "Tarea hacer el peso correcto que nos de los resultados correctos en las combinaciones de datos de entradas \"x\" de la compuerta and \"s\""
      ]
    }
  ],
  "metadata": {
    "colab": {
      "provenance": [],
      "authorship_tag": "ABX9TyPtcDUGpzryea7KivnzRPWW",
      "include_colab_link": true
    },
    "kernelspec": {
      "display_name": "Python 3",
      "name": "python3"
    },
    "language_info": {
      "name": "python"
    }
  },
  "nbformat": 4,
  "nbformat_minor": 0
}