{
  "cells": [
    {
      "cell_type": "markdown",
      "metadata": {
        "id": "view-in-github",
        "colab_type": "text"
      },
      "source": [
        "<a href=\"https://colab.research.google.com/github/Kuro2509/IA_ASCS/blob/main/Practica2_neurona.ipynb\" target=\"_parent\"><img src=\"https://colab.research.google.com/assets/colab-badge.svg\" alt=\"Open In Colab\"/></a>"
      ]
    },
    {
      "cell_type": "markdown",
      "metadata": {
        "id": "VaIXAFK6mntF"
      },
      "source": [
        "# Neurona aprendizaje compuerta AND\n",
        "\n",
        "\n",
        "\n",
        "--\n",
        "\n",
        "00 -> 0\n",
        "\n",
        "01 -> 0\n",
        "\n",
        "10 -> 0\n",
        "\n",
        "11 -> 1\n"
      ]
    },
    {
      "cell_type": "code",
      "execution_count": 23,
      "metadata": {
        "colab": {
          "base_uri": "https://localhost:8080/"
        },
        "id": "W3bCs6aqneYC",
        "outputId": "7dd1effc-8b26-4e5b-c27f-ea23bc87c172"
      },
      "outputs": [
        {
          "output_type": "stream",
          "name": "stdout",
          "text": [
            "0\n",
            "0 AND 0 = 0\n"
          ]
        }
      ],
      "source": [
        "x= [0,0]\n",
        "w= [2,2]\n",
        "s= 0\n",
        "y= 0\n",
        "for i in range(0,2):\n",
        "  s=s+x[i]*w[i]\n",
        "print(s)\n",
        "\n",
        "y=1 if s>=4 else 0\n",
        "print(x[0], 'AND', x[1],'=',y)\n"
      ]
    },
    {
      "cell_type": "code",
      "source": [
        "x= [0,1]\n",
        "w= [2,2]\n",
        "s= 0\n",
        "y= 0\n",
        "for i in range(0,2):\n",
        "  s=s+x[i]*w[i]\n",
        "print(s)\n",
        "\n",
        "y=1 if s>=4 else 0\n",
        "print(x[0], 'AND', x[1],'=',y)\n"
      ],
      "metadata": {
        "colab": {
          "base_uri": "https://localhost:8080/"
        },
        "id": "9uq8aLjzOLRi",
        "outputId": "a2ccfbe4-e408-4cef-a9dd-c0b802597e7e"
      },
      "execution_count": 24,
      "outputs": [
        {
          "output_type": "stream",
          "name": "stdout",
          "text": [
            "2\n",
            "0 AND 1 = 0\n"
          ]
        }
      ]
    },
    {
      "cell_type": "code",
      "source": [
        "x= [1,0]\n",
        "w= [2,2]\n",
        "s= 0\n",
        "y= 0\n",
        "for i in range(0,2):\n",
        "  s=s+x[i]*w[i]\n",
        "print(s)\n",
        "\n",
        "y=1 if s>=4 else 0\n",
        "print(x[0], 'AND', x[1],'=',y)\n"
      ],
      "metadata": {
        "colab": {
          "base_uri": "https://localhost:8080/"
        },
        "id": "e9v7iXrxOSdm",
        "outputId": "4669e1e7-0e2f-41f5-a1c9-b5de2e65136b"
      },
      "execution_count": 25,
      "outputs": [
        {
          "output_type": "stream",
          "name": "stdout",
          "text": [
            "2\n",
            "1 AND 0 = 0\n"
          ]
        }
      ]
    },
    {
      "cell_type": "code",
      "source": [
        "x= [1,1]\n",
        "w= [2,2]\n",
        "s= 0\n",
        "y= 0\n",
        "for i in range(0,2):\n",
        "  s=s+x[i]*w[i]\n",
        "print(s)\n",
        "\n",
        "y=1 if s>=4 else 0\n",
        "print(x[0], 'AND', x[1],'=',y)\n"
      ],
      "metadata": {
        "colab": {
          "base_uri": "https://localhost:8080/"
        },
        "id": "AelRvZl3OUtH",
        "outputId": "ed44e97e-bf41-4e17-a655-ee53aacd5bad"
      },
      "execution_count": 26,
      "outputs": [
        {
          "output_type": "stream",
          "name": "stdout",
          "text": [
            "4\n",
            "1 AND 1 = 1\n"
          ]
        }
      ]
    }
  ],
  "metadata": {
    "colab": {
      "provenance": [],
      "authorship_tag": "ABX9TyNu5DPq9OoI6mCGBw+SpmLG",
      "include_colab_link": true
    },
    "kernelspec": {
      "display_name": "Python 3",
      "name": "python3"
    },
    "language_info": {
      "name": "python"
    }
  },
  "nbformat": 4,
  "nbformat_minor": 0
}