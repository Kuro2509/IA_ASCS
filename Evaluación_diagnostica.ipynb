{
  "nbformat": 4,
  "nbformat_minor": 0,
  "metadata": {
    "colab": {
      "provenance": [],
      "authorship_tag": "ABX9TyPv7f4MjOT+EvXbUtp/n4y1",
      "include_colab_link": true
    },
    "kernelspec": {
      "name": "python3",
      "display_name": "Python 3"
    },
    "language_info": {
      "name": "python"
    }
  },
  "cells": [
    {
      "cell_type": "markdown",
      "metadata": {
        "id": "view-in-github",
        "colab_type": "text"
      },
      "source": [
        "<a href=\"https://colab.research.google.com/github/Kuro2509/IA_ASCS/blob/main/Evaluaci%C3%B3n_diagnostica.ipynb\" target=\"_parent\"><img src=\"https://colab.research.google.com/assets/colab-badge.svg\" alt=\"Open In Colab\"/></a>"
      ]
    },
    {
      "cell_type": "markdown",
      "source": [],
      "metadata": {
        "id": "CUz8WM0NcM9-"
      }
    },
    {
      "cell_type": "markdown",
      "source": [
        "# Evaluación diagnóstica"
      ],
      "metadata": {
        "id": "0nMXgDIUgiqD"
      }
    },
    {
      "cell_type": "markdown",
      "source": [
        "¿Como se declara una lista en python?"
      ],
      "metadata": {
        "id": "HU9_HoTDV-PS"
      }
    },
    {
      "cell_type": "code",
      "source": [
        "my_list = [1,2,3]\n",
        "print(my_list)"
      ],
      "metadata": {
        "colab": {
          "base_uri": "https://localhost:8080/"
        },
        "id": "EovOv2PrWLd1",
        "outputId": "06deb507-f900-4ef7-9e98-bbd1a2488bad"
      },
      "execution_count": null,
      "outputs": [
        {
          "output_type": "stream",
          "name": "stdout",
          "text": [
            "[1, 2, 3]\n"
          ]
        }
      ]
    },
    {
      "cell_type": "markdown",
      "source": [
        "¿Qué función se usa para conocer el número de elementos en una lista?\n"
      ],
      "metadata": {
        "id": "kmpXi3lYWygA"
      }
    },
    {
      "cell_type": "code",
      "source": [
        "print(len(my_list))"
      ],
      "metadata": {
        "colab": {
          "base_uri": "https://localhost:8080/"
        },
        "id": "mP8mWGNyXTVA",
        "outputId": "cfc6e230-142a-4937-e48f-cc1c33db717b"
      },
      "execution_count": null,
      "outputs": [
        {
          "output_type": "stream",
          "name": "stdout",
          "text": [
            "3\n"
          ]
        }
      ]
    },
    {
      "cell_type": "markdown",
      "source": [
        "¿Qué resultado obtendremos al ejecutar el siguiente código?"
      ],
      "metadata": {
        "id": "SY0BHzeJXaqj"
      }
    },
    {
      "cell_type": "code",
      "source": [
        "a=[1,2,3,4,5]\n",
        "print(a[::-1])"
      ],
      "metadata": {
        "colab": {
          "base_uri": "https://localhost:8080/"
        },
        "id": "uGlyl5vSXjHZ",
        "outputId": "ce98c26f-768f-4724-849c-4b8423a65969"
      },
      "execution_count": null,
      "outputs": [
        {
          "output_type": "stream",
          "name": "stdout",
          "text": [
            "[5, 4, 3, 2, 1]\n"
          ]
        }
      ]
    },
    {
      "cell_type": "markdown",
      "source": [
        "¿Cuál es el resultado de la siguiente expresión?"
      ],
      "metadata": {
        "id": "B-Lx40FgX2m4"
      }
    },
    {
      "cell_type": "code",
      "source": [
        "print(3*\"5\"+2)"
      ],
      "metadata": {
        "colab": {
          "base_uri": "https://localhost:8080/",
          "height": 141
        },
        "id": "kMmZLht8X9aQ",
        "outputId": "de1b241d-5caa-4ea6-e14c-9c8908bf9938"
      },
      "execution_count": null,
      "outputs": [
        {
          "output_type": "error",
          "ename": "TypeError",
          "evalue": "can only concatenate str (not \"int\") to str",
          "traceback": [
            "\u001b[0;31m---------------------------------------------------------------------------\u001b[0m",
            "\u001b[0;31mTypeError\u001b[0m                                 Traceback (most recent call last)",
            "\u001b[0;32m<ipython-input-5-ecf93d8422a1>\u001b[0m in \u001b[0;36m<cell line: 1>\u001b[0;34m()\u001b[0m\n\u001b[0;32m----> 1\u001b[0;31m \u001b[0mprint\u001b[0m\u001b[0;34m(\u001b[0m\u001b[0;36m3\u001b[0m\u001b[0;34m*\u001b[0m\u001b[0;34m\"5\"\u001b[0m\u001b[0;34m+\u001b[0m\u001b[0;36m2\u001b[0m\u001b[0;34m)\u001b[0m\u001b[0;34m\u001b[0m\u001b[0;34m\u001b[0m\u001b[0m\n\u001b[0m",
            "\u001b[0;31mTypeError\u001b[0m: can only concatenate str (not \"int\") to str"
          ]
        }
      ]
    },
    {
      "cell_type": "markdown",
      "source": [
        "¿Qué salida generará el siguiente código?"
      ],
      "metadata": {
        "id": "H01tOvjjYL39"
      }
    },
    {
      "cell_type": "code",
      "source": [
        "def foo(x,y=[]):\n",
        " y.append(x)\n",
        " return y\n",
        "\n",
        "print(foo(1))\n",
        "print(foo(2,[]))\n",
        "print(foo(3))"
      ],
      "metadata": {
        "colab": {
          "base_uri": "https://localhost:8080/"
        },
        "id": "rVAa_MNCYTfF",
        "outputId": "2cc1b7e5-a712-4ad2-97b9-8d525f7f16dc"
      },
      "execution_count": null,
      "outputs": [
        {
          "output_type": "stream",
          "name": "stdout",
          "text": [
            "[1]\n",
            "[2]\n",
            "[1, 3]\n"
          ]
        }
      ]
    },
    {
      "cell_type": "markdown",
      "source": [
        "¿Qué resultado obtendremos al ejecutar el siguiente código?"
      ],
      "metadata": {
        "id": "EyGfXwgLZVSW"
      }
    },
    {
      "cell_type": "code",
      "source": [
        "def multiply_list(numbers,factor):\n",
        "  result = []\n",
        "  for number in numbers:\n",
        "    result.append(number*factor)\n",
        "  return result\n",
        "\n",
        "my_list=[1,2,3]\n",
        "outout = multiply_list(my_list,2)\n",
        "print(outout)"
      ],
      "metadata": {
        "colab": {
          "base_uri": "https://localhost:8080/"
        },
        "id": "uFnMDzNHZbrQ",
        "outputId": "ff98ee7a-3b3b-4ef3-a4d7-8d5978009775"
      },
      "execution_count": null,
      "outputs": [
        {
          "output_type": "stream",
          "name": "stdout",
          "text": [
            "[2, 4, 6]\n"
          ]
        }
      ]
    },
    {
      "cell_type": "markdown",
      "source": [
        "\n",
        "# Practica de python"
      ],
      "metadata": {
        "id": "uR0pG0E6g5B1"
      }
    },
    {
      "cell_type": "markdown",
      "source": [
        "Clasificación de una lista con números pares e impares"
      ],
      "metadata": {
        "id": "4IamZVIDhFcT"
      }
    },
    {
      "cell_type": "code",
      "source": [
        "#declaracion de variables\n",
        "numeros = [10,25,36,98,77,34,89,58]\n",
        "#print(type(numeros[0])) imprimir el tipo de dato de un número en la lista\n",
        "pares = []\n",
        "impares = []"
      ],
      "metadata": {
        "id": "wUmLHJnkhT3Q"
      },
      "execution_count": null,
      "outputs": []
    },
    {
      "cell_type": "code",
      "source": [
        "#ciclo for para recorrer la lista\n",
        "\n",
        "\n",
        "for numero in numeros:\n",
        "  if numero % 2 == 0:\n",
        "    # pares[0] = numeros[0]; java, c, c# \"0 es el valor de '1'\"\n",
        "    pares.append(numero)\n",
        "  else:\n",
        "    impares.append(numero)"
      ],
      "metadata": {
        "id": "NmFmyUCoipv8"
      },
      "execution_count": null,
      "outputs": []
    },
    {
      "cell_type": "code",
      "source": [
        "#impresion de resultados\n",
        "print (\"Pares: \",pares , \"total: \", len(pares))\n",
        "print (\"Impares: \",impares , \"total: \", len(impares))"
      ],
      "metadata": {
        "colab": {
          "base_uri": "https://localhost:8080/"
        },
        "id": "p9hKYbxJj2iD",
        "outputId": "cadb71b4-e670-453f-8686-3397bf78b3d1"
      },
      "execution_count": null,
      "outputs": [
        {
          "output_type": "stream",
          "name": "stdout",
          "text": [
            "Pares:  [10, 36, 98, 34, 58] total:  5\n",
            "Impares:  [25, 77, 89] total:  3\n"
          ]
        }
      ]
    },
    {
      "cell_type": "code",
      "source": [
        "#funcion para sumar los numeros pares\n",
        "def sumaPares(lista):\n",
        "  suma = 0\n",
        "  for numero in lista:\n",
        "    suma += numero\n",
        "  return suma"
      ],
      "metadata": {
        "id": "vDWWtTsjmGeX"
      },
      "execution_count": null,
      "outputs": []
    },
    {
      "cell_type": "code",
      "source": [
        "#impresion de la suma\n",
        "print(\"Suma de pares\", sumaPares(pares))\n",
        "#print (\"Suma de impares\", sumaLista(impares))"
      ],
      "metadata": {
        "id": "cmqUVxgwnTJq"
      },
      "execution_count": null,
      "outputs": []
    },
    {
      "cell_type": "markdown",
      "source": [
        "#EJERCICIOS DE PYTHON"
      ],
      "metadata": {
        "id": "86IJX0irtyNX"
      }
    },
    {
      "cell_type": "markdown",
      "source": [
        "Un taller automotriz necesita llevar un control de su inventario de repuestos. Crea un programa que permita agregar, eliminar y consultar la cantidad de repuestos disponibles, así como realizar una compra cuando el inventario de un repuesto está bajo"
      ],
      "metadata": {
        "id": "DSHUt8IVt9PS"
      }
    },
    {
      "cell_type": "code",
      "source": [
        "#Crear una clase llamada productos\n",
        "class Productos:\n",
        "    #Crear un constructor de la lista\n",
        "    def __init__(self):\n",
        "        #Listas\n",
        "        self.id = [1, 2, 3]\n",
        "        self.nombre = [\"Aceite\", \"Bujías\", \"Neumáticos\"]\n",
        "        self.cantidad = [12, 10, 4]\n",
        "        self.compra = 2\n",
        "\n",
        "        # Método para agregar\n",
        "    def agregar(self):\n",
        "        print(\"Agregar un producto:\")\n",
        "        id = int(input(\"Ingrese el ID del producto: \"))\n",
        "        nombre = input(\"Ingrese el nombre del producto: \")\n",
        "        cantidad = int(input(\"Ingrese la cantidad de productos: \"))\n",
        "\n",
        "        self.id.append(id)\n",
        "        self.nombre.append(nombre)\n",
        "        self.cantidad.append(cantidad)\n",
        "\n",
        "        print(\"Producto agregado exitosamente.\")\n",
        "        self.consulta()\n",
        "\n",
        "        # Método para eliminar\n",
        "    def eliminar(self):\n",
        "          print(\"Eliminar un producto:\")\n",
        "          id = int(input(\"Ingrese el ID del producto a eliminar: \"))\n",
        "          if id in self.id:\n",
        "            index = self.id.index(id)\n",
        "            del self.id[index]\n",
        "            del self.nombre[index]\n",
        "            del self.cantidad[index]\n",
        "            print(\"Producto eliminado exitosamente.\")\n",
        "            self.consulta()\n",
        "          else:\n",
        "            print(\"ID no encontrado.\")\n",
        "            self.consulta()\n",
        "\n",
        "             # Método para consultar el inventario\n",
        "    def consulta(self):\n",
        "          print(\"Consulta de inventario :\")\n",
        "          for i in range(len(self.id)):\n",
        "            print(f\"{self.id[i]}, {self.nombre[i]}, Cantidad: {self.cantidad[i]}\")\n",
        "\n",
        "            #consultar respuestos con productos bajos\n",
        "    def repuestos(self):\n",
        "          print(\"Consulta productos con baja cantidad en inventario :\")\n",
        "          print(\"Productos bajos en inventario:\")\n",
        "          inventarioBajo = False\n",
        "          for i in range(len(self.id)):\n",
        "             if self.cantidad[i] < self.compra:\n",
        "                print(f\"{self.id[i]}, {self.nombre[i]}, Cantidad: {self.cantidad[i]}\")\n",
        "                inventarioBajo = True\n",
        "          if not inventarioBajo:\n",
        "            print(\"No hay productos bajos en inventario.\")\n",
        "\n",
        "            #Metodo para realizar compra\n",
        "    def comprar(self):\n",
        "              print(\"Realizar compra:\")\n",
        "              id = int(input(\"Ingrese el ID del producto a comprar: \"))\n",
        "              if id in self.id:\n",
        "                index = self.id.index(id)\n",
        "                cantidad_compra = int(input(\"Ingrese la cantidad a comprar: \"))\n",
        "                self.cantidad[index] += cantidad_compra\n",
        "                print(\"Compra realizada exitosamente.\")\n",
        "                self.consulta()\n",
        "              else:\n",
        "                print(\"ID no encontrado.\")\n",
        "                self.consulta()\n",
        "\n"
      ],
      "metadata": {
        "id": "r_cRsuuFCqDF"
      },
      "execution_count": 39,
      "outputs": []
    },
    {
      "cell_type": "code",
      "source": [
        "productos = Productos()\n",
        "\n",
        "#llamar al método consulta\n",
        "productos.consulta()\n",
        "\n",
        "#llama metodo agregar\n",
        "productos.agregar()\n",
        "\n",
        "#llama metodo eliminar\n",
        "productos.eliminar()\n",
        "\n",
        "#llamar al método repuestos\n",
        "productos.repuestos()\n",
        "\n",
        "#llamar al método comprar\n",
        "productos.comprar()"
      ],
      "metadata": {
        "colab": {
          "base_uri": "https://localhost:8080/"
        },
        "id": "a4SixoxlTyCB",
        "outputId": "903fef2f-28b0-4a1c-abad-c60faaefb383"
      },
      "execution_count": 41,
      "outputs": [
        {
          "output_type": "stream",
          "name": "stdout",
          "text": [
            "Consulta de inventario :\n",
            "1, Aceite, Cantidad: 12\n",
            "2, Bujías, Cantidad: 10\n",
            "3, Neumáticos, Cantidad: 4\n",
            "Agregar un producto:\n",
            "Ingrese el ID del producto: 4\n",
            "Ingrese el nombre del producto: Baterias\n",
            "Ingrese la cantidad de productos: 2\n",
            "Producto agregado exitosamente.\n",
            "Consulta de inventario :\n",
            "1, Aceite, Cantidad: 12\n",
            "2, Bujías, Cantidad: 10\n",
            "3, Neumáticos, Cantidad: 4\n",
            "4, Baterias, Cantidad: 2\n",
            "Eliminar un producto:\n",
            "Ingrese el ID del producto a eliminar: 1\n",
            "Producto eliminado exitosamente.\n",
            "Consulta de inventario :\n",
            "2, Bujías, Cantidad: 10\n",
            "3, Neumáticos, Cantidad: 4\n",
            "4, Baterias, Cantidad: 2\n",
            "Consulta productos con baja cantidad en inventario :\n",
            "Productos bajos en inventario:\n",
            "No hay productos bajos en inventario.\n",
            "Realizar compra:\n",
            "Ingrese el ID del producto a comprar: 4\n",
            "Ingrese la cantidad a comprar: 2\n",
            "Compra realizada exitosamente.\n",
            "Consulta de inventario :\n",
            "2, Bujías, Cantidad: 10\n",
            "3, Neumáticos, Cantidad: 4\n",
            "4, Baterias, Cantidad: 4\n"
          ]
        }
      ]
    },
    {
      "cell_type": "markdown",
      "source": [
        "Una empresa de servicios a terceros ofrece proyectos de consultoría y debe llevar el control de horas trabajadas por sus empleados en diferentes proyectos. Crea un programa que calcule las horas totales trabajadas por cada empleado en varios proyectos y su costo total en función de la tarifa por hora."
      ],
      "metadata": {
        "id": "J6xdGqxycavJ"
      }
    },
    {
      "cell_type": "code",
      "source": [
        "#clase Empledos\n",
        "class Empleados:\n",
        "  #constructor\n",
        "  def __init__(self):\n",
        "    #listas\n",
        "    self.NomEmpleado = [\"Sonia\", \"José\",\"Mariana\", \"Roberto\"]\n",
        "    self.HorasTrabajadas = {\n",
        "        \"Sonia\":{\"Proyecto 1\": 0, \"Proyecto 4\": 0},\n",
        "        \"José\":{\"Proyecto 1\": 0, \"Proyecto 2\": 0},\n",
        "        \"Mariana\":{\"Proyecto 3\": 0, \"Proyecto 4\": 0}\n",
        "    }\n",
        "    self.proyectos = [\"Proyecto 1\",\"Proyecto 2\",\"Proyecto 3\", \"Proyecto 4\"]\n",
        "    self.PagoHora = 150\n",
        "\n",
        "#Metodo para buscar un empleado\n",
        "  def buscarEmpleado(self):\n",
        "    print(\"Buscar empleado\")\n",
        "    nombre = input(\"Ingrese el nombre del empleado: \")\n",
        "    if nombre in self.NomEmpleado:\n",
        "      print(f\"Trabajador {nombre}\")\n",
        "      return nombre\n",
        "    else:\n",
        "      print(\"No se encontro a nadie con ese nombre\")\n",
        "      return None\n",
        "\n",
        "      #Metodo para ingresar horas trabajadas por poryectos\n",
        "  def ingresarHoras(self, nombre):\n",
        "        if nombre in self.HorasTrabajadas:\n",
        "          for proyecto in self.HorasTrabajadas[nombre]:\n",
        "                horas = int(input(f\"Ingrese las horas trabajadas en {proyecto}: \"))\n",
        "                self.HorasTrabajadas[nombre][proyecto] += horas\n",
        "        else:\n",
        "            print(f\"{nombre} no tiene proyectos asignados\")\n",
        "\n",
        "\n",
        "      #Metodo de cuanto se deben pagar en total por las horas trabajadas\n",
        "  def pagarHoras(self, nombre):\n",
        "        if nombre in self.HorasTrabajadas:\n",
        "          total = 0\n",
        "          pago = 0\n",
        "          for proyecto, horas in self.HorasTrabajadas[nombre].items():\n",
        "              print(f\"{nombre} trabajo en el {proyecto}: {horas} horas\")\n",
        "              total += horas\n",
        "              pago = total * self.PagoHora\n",
        "          print(f\"Total de horas que trabajó {nombre}: {total}\")\n",
        "          print(f\"Por lo tanto el costo total es: {pago}\")\n",
        "        else:\n",
        "          print(f\"{nombre} no tiene proyectos asignados.\")\n",
        ""
      ],
      "metadata": {
        "id": "RzZNMc1tf5Z8"
      },
      "execution_count": 24,
      "outputs": []
    },
    {
      "cell_type": "code",
      "source": [
        "#se crea una instancia de la clase Empleados\n",
        "empleados = Empleados()\n",
        "\n",
        "#se llama al metodo buscar empleado\n",
        "nombreEmp = empleados.buscarEmpleado()\n",
        "\n",
        "\n",
        "#Si el nombre del empleado existe entonces se ingresan las horas trabajadas\n",
        "if empleados.NomEmpleado:\n",
        "   #se llama al metodo ingresar horas\n",
        " empleados.ingresarHoras(nombreEmp)\n",
        "   #se llama al metodo pagar horas\n",
        " empleados.pagarHoras(nombreEmp)\n"
      ],
      "metadata": {
        "colab": {
          "base_uri": "https://localhost:8080/"
        },
        "id": "YDp1T4AeupQr",
        "outputId": "dc09a7a2-9e39-417a-bb96-9cfa6cbac232"
      },
      "execution_count": 25,
      "outputs": [
        {
          "output_type": "stream",
          "name": "stdout",
          "text": [
            "Buscar empleado\n",
            "Ingrese el nombre del empleado: Sonia\n",
            "Trabajador Sonia\n",
            "Ingrese las horas trabajadas en Proyecto 1: 14\n",
            "Ingrese las horas trabajadas en Proyecto 4: 6\n",
            "Sonia trabajo en el Proyecto 1: 14 horas\n",
            "Sonia trabajo en el Proyecto 4: 6 horas\n",
            "Total de horas que trabajó Sonia: 20\n",
            "Por lo tanto el costo total es: 3000\n"
          ]
        }
      ]
    }
  ]
}